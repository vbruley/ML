{
 "cells": [
  {
   "cell_type": "code",
   "execution_count": 22,
   "metadata": {},
   "outputs": [],
   "source": [
    "import numpy\n",
    "import numpy as np\n",
    "import torch\n",
    "import torch.nn as nn\n",
    "import torch.nn.functional as F\n",
    "import torch.utils.data.dataloader as dataloader\n",
    "import torch.optim as optim\n",
    "\n",
    "from torch.utils.data import TensorDataset\n",
    "from torch.autograd import Variable\n",
    "from torchvision import transforms\n",
    "from torchvision.datasets import MNIST, ImageFolder, DatasetFolder\n",
    "import matplotlib.pyplot as plt\n",
    "from PIL import Image\n",
    "SEED = 1\n",
    "\n",
    "# CUDA?\n",
    "cuda = torch.cuda.is_available()\n",
    "\n",
    "# For reproducibility\n",
    "torch.manual_seed(SEED)\n",
    "\n",
    "if cuda:\n",
    "    torch.cuda.manual_seed(SEED)"
   ]
  },
  {
   "cell_type": "code",
   "execution_count": 40,
   "metadata": {},
   "outputs": [
    {
     "name": "stdout",
     "output_type": "stream",
     "text": [
      "Training data: Dataset ImageFolder\n",
      "    Number of datapoints: 135\n",
      "    Root Location: /home/ysteux/nosave/PPC/Train/\n",
      "    Transforms (if any): Compose(\n",
      "                             Grayscale(num_output_channels=1)\n",
      "                             RandomRotation(degrees=(-30, 30), resample=False, expand=False)\n",
      "                             ToTensor()\n",
      "                         )\n",
      "    Target Transforms (if any): None\n",
      "\n",
      "Test data: Dataset ImageFolder\n",
      "    Number of datapoints: 67\n",
      "    Root Location: /home/ysteux/nosave/PPC/Test/\n",
      "    Transforms (if any): Compose(\n",
      "                             Grayscale(num_output_channels=1)\n",
      "                             RandomRotation(degrees=(-30, 30), resample=False, expand=False)\n",
      "                             ToTensor()\n",
      "                         )\n",
      "    Target Transforms (if any): None\n"
     ]
    }
   ],
   "source": [
    "# Transformation en tenseur :\n",
    "# Augmentation du dataset (n'augmente pas la taille du dataset, mais il faut augmenter le nombre d'époque \n",
    "# par 2 pour chaque transformation)\n",
    "t = transforms.Compose([transforms.Grayscale(), transforms.RandomRotation(30, resample=False, expand=False, center=None),transforms.ToTensor(),])\n",
    "\n",
    "\n",
    "train_dataset = ImageFolder('/home/ysteux/nosave/PPC/Train/', transform = t)\n",
    "test_dataset = ImageFolder('/home/ysteux/nosave/PPC/Test/', transform = t)\n",
    "\n",
    "print(\"Training data:\", train_dataset)\n",
    "print(\"\\nTest data:\", test_dataset)\n",
    "# Create DataLoader\n",
    "# Dataloader train\n",
    "dataloader_args = dict(shuffle=True, batch_size=45,num_workers=4, pin_memory=True) if cuda else dict(shuffle=True, batch_size=45)\n",
    "train_loader = dataloader.DataLoader(train_dataset, **dataloader_args)\n",
    "\n",
    "# Dataloader test\n",
    "dataloader_args = dict(shuffle=True, batch_size=len(test_dataset),num_workers=4, pin_memory=True)\n",
    "test_loader = dataloader.DataLoader(test_dataset, **dataloader_args)"
   ]
  },
  {
   "cell_type": "code",
   "execution_count": 41,
   "metadata": {},
   "outputs": [],
   "source": [
    "# One hidden Layer NN\n",
    "class Model(nn.Module):\n",
    "    def __init__(self):\n",
    "        super(Model, self).__init__()\n",
    "        self.fc = nn.Linear(1024, 1000)\n",
    "        self.fc2 = nn.Linear(1000, 10)\n",
    "\n",
    "    def forward(self, x):\n",
    "        x = x.view((-1, 1024))\n",
    "        # Activation relu sur fc\n",
    "        h = F.relu(self.fc(x))\n",
    "        h = self.fc2(h)\n",
    "        return F.log_softmax(h, dim=0)    \n",
    "    \n",
    "    \n",
    "model = Model()\n",
    "if cuda:\n",
    "    model.cuda()\n",
    "optimizer = optim.Adam(model.parameters(), lr=1e-3)"
   ]
  },
  {
   "cell_type": "code",
   "execution_count": 58,
   "metadata": {},
   "outputs": [
    {
     "name": "stdout",
     "output_type": "stream",
     "text": [
      " Train Epoch: 1/100 [135/135 (30%)]\tLoss: 0.116203\t Test Accuracy: 44.7761%\n",
      " Train Epoch: 2/100 [135/135 (30%)]\tLoss: 0.078398\t Test Accuracy: 46.2687%\n",
      " Train Epoch: 3/100 [135/135 (30%)]\tLoss: 0.127719\t Test Accuracy: 46.2687%\n",
      " Train Epoch: 4/100 [135/135 (30%)]\tLoss: 0.121815\t Test Accuracy: 43.2836%\n",
      " Train Epoch: 5/100 [135/135 (30%)]\tLoss: 0.066645\t Test Accuracy: 41.7910%\n",
      " Train Epoch: 6/100 [135/135 (30%)]\tLoss: 0.073389\t Test Accuracy: 44.7761%\n",
      " Train Epoch: 7/100 [135/135 (30%)]\tLoss: 0.180658\t Test Accuracy: 44.7761%\n",
      " Train Epoch: 8/100 [135/135 (30%)]\tLoss: 0.092386\t Test Accuracy: 43.2836%\n",
      " Train Epoch: 9/100 [135/135 (30%)]\tLoss: 0.148302\t Test Accuracy: 46.2687%\n",
      " Train Epoch: 10/100 [135/135 (30%)]\tLoss: 0.229158\t Test Accuracy: 44.7761%\n",
      " Train Epoch: 11/100 [135/135 (30%)]\tLoss: 0.107738\t Test Accuracy: 46.2687%\n",
      " Train Epoch: 12/100 [135/135 (30%)]\tLoss: 0.092866\t Test Accuracy: 46.2687%\n",
      " Train Epoch: 13/100 [135/135 (30%)]\tLoss: 0.082239\t Test Accuracy: 46.2687%\n",
      " Train Epoch: 14/100 [135/135 (30%)]\tLoss: 0.139457\t Test Accuracy: 46.2687%\n",
      " Train Epoch: 15/100 [135/135 (30%)]\tLoss: 0.151254\t Test Accuracy: 46.2687%\n",
      " Train Epoch: 16/100 [135/135 (30%)]\tLoss: 0.069778\t Test Accuracy: 47.7612%\n",
      " Train Epoch: 17/100 [135/135 (30%)]\tLoss: 0.102372\t Test Accuracy: 49.2537%\n",
      " Train Epoch: 18/100 [135/135 (30%)]\tLoss: 0.145092\t Test Accuracy: 44.7761%\n",
      " Train Epoch: 19/100 [135/135 (30%)]\tLoss: 0.090245\t Test Accuracy: 44.7761%\n",
      " Train Epoch: 20/100 [135/135 (30%)]\tLoss: 0.100572\t Test Accuracy: 43.2836%\n",
      " Train Epoch: 21/100 [135/135 (30%)]\tLoss: 0.079836\t Test Accuracy: 43.2836%\n",
      " Train Epoch: 22/100 [135/135 (30%)]\tLoss: 0.087599\t Test Accuracy: 44.7761%\n",
      " Train Epoch: 23/100 [135/135 (30%)]\tLoss: 0.084464\t Test Accuracy: 41.7910%\n",
      " Train Epoch: 24/100 [135/135 (30%)]\tLoss: 0.145070\t Test Accuracy: 44.7761%\n",
      " Train Epoch: 25/100 [135/135 (30%)]\tLoss: 0.072491\t Test Accuracy: 44.7761%\n",
      " Train Epoch: 26/100 [135/135 (30%)]\tLoss: 0.077995\t Test Accuracy: 43.2836%\n",
      " Train Epoch: 27/100 [135/135 (30%)]\tLoss: 0.092754\t Test Accuracy: 44.7761%\n",
      " Train Epoch: 28/100 [135/135 (30%)]\tLoss: 0.105472\t Test Accuracy: 44.7761%\n",
      " Train Epoch: 29/100 [135/135 (30%)]\tLoss: 0.096376\t Test Accuracy: 44.7761%\n",
      " Train Epoch: 30/100 [135/135 (30%)]\tLoss: 0.134653\t Test Accuracy: 43.2836%\n",
      " Train Epoch: 31/100 [135/135 (30%)]\tLoss: 0.099684\t Test Accuracy: 43.2836%\n",
      " Train Epoch: 32/100 [135/135 (30%)]\tLoss: 0.091051\t Test Accuracy: 40.2985%\n",
      " Train Epoch: 33/100 [135/135 (30%)]\tLoss: 0.089515\t Test Accuracy: 41.7910%\n",
      " Train Epoch: 34/100 [135/135 (30%)]\tLoss: 0.085997\t Test Accuracy: 44.7761%\n",
      " Train Epoch: 35/100 [135/135 (30%)]\tLoss: 0.068307\t Test Accuracy: 46.2687%\n",
      " Train Epoch: 36/100 [135/135 (30%)]\tLoss: 0.059706\t Test Accuracy: 43.2836%\n",
      " Train Epoch: 37/100 [135/135 (30%)]\tLoss: 0.079168\t Test Accuracy: 43.2836%\n",
      " Train Epoch: 38/100 [135/135 (30%)]\tLoss: 0.072238\t Test Accuracy: 46.2687%\n",
      " Train Epoch: 39/100 [135/135 (30%)]\tLoss: 0.088463\t Test Accuracy: 43.2836%\n",
      " Train Epoch: 40/100 [135/135 (30%)]\tLoss: 0.086935\t Test Accuracy: 46.2687%\n",
      " Train Epoch: 41/100 [135/135 (30%)]\tLoss: 0.084899\t Test Accuracy: 44.7761%\n",
      " Train Epoch: 42/100 [135/135 (30%)]\tLoss: 0.077606\t Test Accuracy: 43.2836%\n",
      " Train Epoch: 43/100 [135/135 (30%)]\tLoss: 0.091442\t Test Accuracy: 43.2836%\n",
      " Train Epoch: 44/100 [135/135 (30%)]\tLoss: 0.091113\t Test Accuracy: 47.7612%\n",
      " Train Epoch: 45/100 [135/135 (30%)]\tLoss: 0.099489\t Test Accuracy: 46.2687%\n",
      " Train Epoch: 46/100 [135/135 (30%)]\tLoss: 0.147669\t Test Accuracy: 43.2836%\n",
      " Train Epoch: 47/100 [135/135 (30%)]\tLoss: 0.070169\t Test Accuracy: 40.2985%\n",
      " Train Epoch: 48/100 [135/135 (30%)]\tLoss: 0.095897\t Test Accuracy: 41.7910%\n",
      " Train Epoch: 49/100 [135/135 (30%)]\tLoss: 0.080165\t Test Accuracy: 44.7761%\n",
      " Train Epoch: 50/100 [135/135 (30%)]\tLoss: 0.091082\t Test Accuracy: 40.2985%\n",
      " Train Epoch: 51/100 [135/135 (30%)]\tLoss: 0.085334\t Test Accuracy: 40.2985%\n",
      " Train Epoch: 52/100 [135/135 (30%)]\tLoss: 0.087109\t Test Accuracy: 40.2985%\n",
      " Train Epoch: 53/100 [135/135 (30%)]\tLoss: 0.098887\t Test Accuracy: 43.2836%\n",
      " Train Epoch: 54/100 [135/135 (30%)]\tLoss: 0.076058\t Test Accuracy: 44.7761%\n",
      " Train Epoch: 55/100 [135/135 (30%)]\tLoss: 0.124584\t Test Accuracy: 44.7761%\n",
      " Train Epoch: 56/100 [135/135 (30%)]\tLoss: 0.189119\t Test Accuracy: 50.7463%\n",
      " Train Epoch: 57/100 [135/135 (30%)]\tLoss: 0.086921\t Test Accuracy: 49.2537%\n",
      " Train Epoch: 58/100 [135/135 (30%)]\tLoss: 0.097960\t Test Accuracy: 44.7761%\n",
      " Train Epoch: 59/100 [135/135 (30%)]\tLoss: 0.213601\t Test Accuracy: 43.2836%\n",
      " Train Epoch: 60/100 [135/135 (30%)]\tLoss: 0.108336\t Test Accuracy: 40.2985%\n",
      " Train Epoch: 61/100 [135/135 (30%)]\tLoss: 0.219249\t Test Accuracy: 41.7910%\n",
      " Train Epoch: 62/100 [135/135 (30%)]\tLoss: 0.225827\t Test Accuracy: 41.7910%\n",
      " Train Epoch: 63/100 [135/135 (30%)]\tLoss: 0.101300\t Test Accuracy: 40.2985%\n",
      " Train Epoch: 64/100 [135/135 (30%)]\tLoss: 0.090806\t Test Accuracy: 40.2985%\n",
      " Train Epoch: 65/100 [135/135 (30%)]\tLoss: 0.173190\t Test Accuracy: 41.7910%\n",
      " Train Epoch: 66/100 [135/135 (30%)]\tLoss: 0.125278\t Test Accuracy: 43.2836%\n",
      " Train Epoch: 67/100 [135/135 (30%)]\tLoss: 0.082840\t Test Accuracy: 43.2836%\n",
      " Train Epoch: 68/100 [135/135 (30%)]\tLoss: 0.079038\t Test Accuracy: 44.7761%\n",
      " Train Epoch: 69/100 [135/135 (30%)]\tLoss: 0.061924\t Test Accuracy: 44.7761%\n",
      " Train Epoch: 70/100 [135/135 (30%)]\tLoss: 0.082044\t Test Accuracy: 44.7761%\n",
      " Train Epoch: 71/100 [135/135 (30%)]\tLoss: 0.072423\t Test Accuracy: 47.7612%\n",
      " Train Epoch: 72/100 [135/135 (30%)]\tLoss: 0.075874\t Test Accuracy: 46.2687%\n",
      " Train Epoch: 73/100 [135/135 (30%)]\tLoss: 0.098974\t Test Accuracy: 44.7761%\n",
      " Train Epoch: 74/100 [135/135 (30%)]\tLoss: 0.068250\t Test Accuracy: 47.7612%\n",
      " Train Epoch: 75/100 [135/135 (30%)]\tLoss: 0.076312\t Test Accuracy: 43.2836%\n",
      " Train Epoch: 76/100 [135/135 (30%)]\tLoss: 0.127121\t Test Accuracy: 41.7910%\n",
      " Train Epoch: 77/100 [135/135 (30%)]\tLoss: 0.084706\t Test Accuracy: 43.2836%\n",
      " Train Epoch: 78/100 [135/135 (30%)]\tLoss: 0.082575\t Test Accuracy: 43.2836%\n",
      " Train Epoch: 79/100 [135/135 (30%)]\tLoss: 0.077918\t Test Accuracy: 44.7761%\n",
      " Train Epoch: 80/100 [135/135 (30%)]\tLoss: 0.087328\t Test Accuracy: 43.2836%\n",
      " Train Epoch: 81/100 [135/135 (30%)]\tLoss: 0.108526\t Test Accuracy: 44.7761%\n",
      " Train Epoch: 82/100 [135/135 (30%)]\tLoss: 0.061291\t Test Accuracy: 44.7761%\n",
      " Train Epoch: 83/100 [135/135 (30%)]\tLoss: 0.063210\t Test Accuracy: 44.7761%\n",
      " Train Epoch: 84/100 [135/135 (30%)]\tLoss: 0.062827\t Test Accuracy: 44.7761%\n",
      " Train Epoch: 85/100 [135/135 (30%)]\tLoss: 0.061876\t Test Accuracy: 46.2687%\n",
      " Train Epoch: 86/100 [135/135 (30%)]\tLoss: 0.084860\t Test Accuracy: 46.2687%\n",
      " Train Epoch: 87/100 [135/135 (30%)]\tLoss: 0.089123\t Test Accuracy: 44.7761%\n",
      " Train Epoch: 88/100 [135/135 (30%)]\tLoss: 0.095891\t Test Accuracy: 43.2836%\n",
      " Train Epoch: 89/100 [135/135 (30%)]\tLoss: 0.082111\t Test Accuracy: 41.7910%\n",
      " Train Epoch: 90/100 [135/135 (30%)]\tLoss: 0.049065\t Test Accuracy: 41.7910%\n",
      " Train Epoch: 91/100 [135/135 (30%)]\tLoss: 0.065749\t Test Accuracy: 41.7910%\n",
      " Train Epoch: 92/100 [135/135 (30%)]\tLoss: 0.115437\t Test Accuracy: 46.2687%\n",
      " Train Epoch: 93/100 [135/135 (30%)]\tLoss: 0.077874\t Test Accuracy: 47.7612%\n",
      " Train Epoch: 94/100 [135/135 (30%)]\tLoss: 0.106972\t Test Accuracy: 44.7761%\n",
      " Train Epoch: 95/100 [135/135 (30%)]\tLoss: 0.076648\t Test Accuracy: 44.7761%\n",
      " Train Epoch: 96/100 [135/135 (30%)]\tLoss: 0.121463\t Test Accuracy: 44.7761%\n",
      " Train Epoch: 97/100 [135/135 (30%)]\tLoss: 0.081284\t Test Accuracy: 44.7761%\n",
      " Train Epoch: 98/100 [135/135 (30%)]\tLoss: 0.068281\t Test Accuracy: 44.7761%\n",
      " Train Epoch: 99/100 [135/135 (30%)]\tLoss: 0.056061\t Test Accuracy: 44.7761%\n",
      " Train Epoch: 100/100 [135/135 (30%)]\tLoss: 0.066666\t Test Accuracy: 46.2687%\n"
     ]
    }
   ],
   "source": [
    "EPOCHS = 100\n",
    "losses = []\n",
    "\n",
    "# Eval\n",
    "data_iter = iter(test_loader)\n",
    "evaluate_x, evaluate_y = data_iter.next()\n",
    "\n",
    "if cuda:\n",
    "    evaluate_x, evaluate_y = evaluate_x.cuda(), evaluate_y.cuda()\n",
    "    \n",
    "train_size = len(train_loader.dataset)\n",
    "batch_size = (train_size / 20) if (cuda) else  (train_size / 20)\n",
    "\n",
    "# On passe le modèle en training mode\n",
    "model.train()\n",
    "\n",
    "for epoch in range(EPOCHS):\n",
    "    for batch_idx, (data, target) in enumerate(train_loader):\n",
    "        # Get Samples\n",
    "        data, target = Variable(data), Variable(target)\n",
    "        \n",
    "        if cuda:\n",
    "            data, target = data.cuda(), target.cuda()\n",
    "        \n",
    "        # Init\n",
    "        optimizer.zero_grad()\n",
    "\n",
    "        # Predict\n",
    "        y_pred = model(data) \n",
    "\n",
    "        # Calculate loss\n",
    "        loss = F.cross_entropy(y_pred, target)\n",
    "        losses.append(loss.cpu().item())\n",
    "        # Backpropagation\n",
    "        loss.backward()\n",
    "        \n",
    "        # Mise à jour des poids \n",
    "        optimizer.step()\n",
    "        \n",
    "        \n",
    "        # Display\n",
    "        if batch_idx % 100 == 1:\n",
    "            print('\\r Train Epoch: {}/{} [{}/{} ({:.0f}%)]\\tLoss: {:.6f}'.format(\n",
    "                epoch+1,\n",
    "                EPOCHS,\n",
    "                batch_idx * len(data), \n",
    "                train_size,\n",
    "                100. * batch_idx / batch_size, \n",
    "                loss.cpu().item()), \n",
    "                end='')\n",
    "\n",
    "    # display final evaluation for this epoch\n",
    "    # On passe le modèle en test mode\n",
    "    model.eval()\n",
    "\n",
    "    # Appel de la fonction forward\n",
    "    output = model(evaluate_x)\n",
    "    \n",
    "    # Vecteur de prédiction des données de test\n",
    "    pred = output.data.max(1)[1]\n",
    "    \n",
    "    # Test d'égalité entre données de test et prédiction\n",
    "    d = pred.eq(evaluate_y.data).cpu()\n",
    "    accuracy = d.sum().item()/d.size()[0]\n",
    "    \n",
    "    print('\\r Train Epoch: {}/{} [{}/{} ({:.0f}%)]\\tLoss: {:.6f}\\t Test Accuracy: {:.4f}%'.format(\n",
    "        epoch+1,\n",
    "        EPOCHS,\n",
    "        train_size, \n",
    "        train_size,\n",
    "        100. * batch_idx / batch_size, \n",
    "        loss.cpu().item(),\n",
    "        accuracy*100,\n",
    "        end=''))"
   ]
  },
  {
   "cell_type": "code",
   "execution_count": 59,
   "metadata": {},
   "outputs": [
    {
     "data": {
      "text/plain": [
       "[<matplotlib.lines.Line2D at 0x7f86180881d0>]"
      ]
     },
     "execution_count": 59,
     "metadata": {},
     "output_type": "execute_result"
    },
    {
     "data": {
      "image/png": "[encoded data removed]",
      "text/plain": [
       "<Figure size 432x288 with 1 Axes>"
      ]
     },
     "metadata": {
      "needs_background": "light"
     },
     "output_type": "display_data"
    }
   ],
   "source": [
    "# Evolution des résultats de la fonction \"loss\" :\n",
    "plt.plot(losses)"
   ]
  },
  {
   "cell_type": "code",
   "execution_count": 66,
   "metadata": {},
   "outputs": [
    {
     "name": "stdout",
     "output_type": "stream",
     "text": [
      "(tensor([[[0.0000, 0.0000, 0.0000,  ..., 0.1216, 0.1490, 0.0000],\n",
      "         [0.0510, 0.0157, 0.0235,  ..., 0.2980, 0.1529, 0.0000],\n",
      "         [0.1373, 0.2235, 0.4157,  ..., 0.1569, 0.2118, 0.0000],\n",
      "         ...,\n",
      "         [0.0000, 0.4549, 0.4549,  ..., 0.2863, 0.2941, 0.2941],\n",
      "         [0.0000, 0.4588, 0.4627,  ..., 0.2902, 0.2941, 0.2980],\n",
      "         [0.0000, 0.4667, 0.4667,  ..., 0.0000, 0.0000, 0.0000]]]), 0)\n"
     ]
    },
    {
     "ename": "ValueError",
     "evalue": "only one element tensors can be converted to Python scalars",
     "output_type": "error",
     "traceback": [
      "\u001b[0;31m---------------------------------------------------------------------------\u001b[0m",
      "\u001b[0;31mValueError\u001b[0m                                Traceback (most recent call last)",
      "\u001b[0;32m<ipython-input-66-fd708de63204>\u001b[0m in \u001b[0;36m<module>\u001b[0;34m\u001b[0m\n\u001b[1;32m      7\u001b[0m \u001b[0;34m\u001b[0m\u001b[0m\n\u001b[1;32m      8\u001b[0m \u001b[0mprint\u001b[0m\u001b[0;34m(\u001b[0m\u001b[0mtest_dataset\u001b[0m\u001b[0;34m[\u001b[0m\u001b[0;36m1\u001b[0m\u001b[0;34m]\u001b[0m\u001b[0;34m)\u001b[0m\u001b[0;34m\u001b[0m\u001b[0m\n\u001b[0;32m----> 9\u001b[0;31m \u001b[0mplt\u001b[0m\u001b[0;34m.\u001b[0m\u001b[0mimshow\u001b[0m\u001b[0;34m(\u001b[0m\u001b[0mtest_dataset\u001b[0m\u001b[0;34m[\u001b[0m\u001b[0;36m0\u001b[0m\u001b[0;34m]\u001b[0m\u001b[0;34m,\u001b[0m \u001b[0minterpolation\u001b[0m\u001b[0;34m=\u001b[0m\u001b[0;34m'bicubic'\u001b[0m\u001b[0;34m)\u001b[0m\u001b[0;34m\u001b[0m\u001b[0m\n\u001b[0m\u001b[1;32m     10\u001b[0m \u001b[0;31m#img\u001b[0m\u001b[0;34m\u001b[0m\u001b[0;34m\u001b[0m\u001b[0m\n",
      "\u001b[0;32m/opt/miniconda/lib/python3.6/site-packages/matplotlib/pyplot.py\u001b[0m in \u001b[0;36mimshow\u001b[0;34m(X, cmap, norm, aspect, interpolation, alpha, vmin, vmax, origin, extent, shape, filternorm, filterrad, imlim, resample, url, data, **kwargs)\u001b[0m\n\u001b[1;32m   2651\u001b[0m         \u001b[0mvmax\u001b[0m\u001b[0;34m=\u001b[0m\u001b[0mvmax\u001b[0m\u001b[0;34m,\u001b[0m \u001b[0morigin\u001b[0m\u001b[0;34m=\u001b[0m\u001b[0morigin\u001b[0m\u001b[0;34m,\u001b[0m \u001b[0mextent\u001b[0m\u001b[0;34m=\u001b[0m\u001b[0mextent\u001b[0m\u001b[0;34m,\u001b[0m \u001b[0mshape\u001b[0m\u001b[0;34m=\u001b[0m\u001b[0mshape\u001b[0m\u001b[0;34m,\u001b[0m\u001b[0;34m\u001b[0m\u001b[0m\n\u001b[1;32m   2652\u001b[0m         \u001b[0mfilternorm\u001b[0m\u001b[0;34m=\u001b[0m\u001b[0mfilternorm\u001b[0m\u001b[0;34m,\u001b[0m \u001b[0mfilterrad\u001b[0m\u001b[0;34m=\u001b[0m\u001b[0mfilterrad\u001b[0m\u001b[0;34m,\u001b[0m \u001b[0mimlim\u001b[0m\u001b[0;34m=\u001b[0m\u001b[0mimlim\u001b[0m\u001b[0;34m,\u001b[0m\u001b[0;34m\u001b[0m\u001b[0m\n\u001b[0;32m-> 2653\u001b[0;31m         resample=resample, url=url, data=data, **kwargs)\n\u001b[0m\u001b[1;32m   2654\u001b[0m     \u001b[0msci\u001b[0m\u001b[0;34m(\u001b[0m\u001b[0m__ret\u001b[0m\u001b[0;34m)\u001b[0m\u001b[0;34m\u001b[0m\u001b[0m\n\u001b[1;32m   2655\u001b[0m     \u001b[0;32mreturn\u001b[0m \u001b[0m__ret\u001b[0m\u001b[0;34m\u001b[0m\u001b[0m\n",
      "\u001b[0;32m/opt/miniconda/lib/python3.6/site-packages/matplotlib/__init__.py\u001b[0m in \u001b[0;36minner\u001b[0;34m(ax, data, *args, **kwargs)\u001b[0m\n\u001b[1;32m   1783\u001b[0m                         \u001b[0;34m\"the Matplotlib list!)\"\u001b[0m \u001b[0;34m%\u001b[0m \u001b[0;34m(\u001b[0m\u001b[0mlabel_namer\u001b[0m\u001b[0;34m,\u001b[0m \u001b[0mfunc\u001b[0m\u001b[0;34m.\u001b[0m\u001b[0m__name__\u001b[0m\u001b[0;34m)\u001b[0m\u001b[0;34m,\u001b[0m\u001b[0;34m\u001b[0m\u001b[0m\n\u001b[1;32m   1784\u001b[0m                         RuntimeWarning, stacklevel=2)\n\u001b[0;32m-> 1785\u001b[0;31m             \u001b[0;32mreturn\u001b[0m \u001b[0mfunc\u001b[0m\u001b[0;34m(\u001b[0m\u001b[0max\u001b[0m\u001b[0;34m,\u001b[0m \u001b[0;34m*\u001b[0m\u001b[0margs\u001b[0m\u001b[0;34m,\u001b[0m \u001b[0;34m**\u001b[0m\u001b[0mkwargs\u001b[0m\u001b[0;34m)\u001b[0m\u001b[0;34m\u001b[0m\u001b[0m\n\u001b[0m\u001b[1;32m   1786\u001b[0m \u001b[0;34m\u001b[0m\u001b[0m\n\u001b[1;32m   1787\u001b[0m         inner.__doc__ = _add_data_doc(inner.__doc__,\n",
      "\u001b[0;32m/opt/miniconda/lib/python3.6/site-packages/matplotlib/axes/_axes.py\u001b[0m in \u001b[0;36mimshow\u001b[0;34m(self, X, cmap, norm, aspect, interpolation, alpha, vmin, vmax, origin, extent, shape, filternorm, filterrad, imlim, resample, url, **kwargs)\u001b[0m\n\u001b[1;32m   5470\u001b[0m                               resample=resample, **kwargs)\n\u001b[1;32m   5471\u001b[0m \u001b[0;34m\u001b[0m\u001b[0m\n\u001b[0;32m-> 5472\u001b[0;31m         \u001b[0mim\u001b[0m\u001b[0;34m.\u001b[0m\u001b[0mset_data\u001b[0m\u001b[0;34m(\u001b[0m\u001b[0mX\u001b[0m\u001b[0;34m)\u001b[0m\u001b[0;34m\u001b[0m\u001b[0m\n\u001b[0m\u001b[1;32m   5473\u001b[0m         \u001b[0mim\u001b[0m\u001b[0;34m.\u001b[0m\u001b[0mset_alpha\u001b[0m\u001b[0;34m(\u001b[0m\u001b[0malpha\u001b[0m\u001b[0;34m)\u001b[0m\u001b[0;34m\u001b[0m\u001b[0m\n\u001b[1;32m   5474\u001b[0m         \u001b[0;32mif\u001b[0m \u001b[0mim\u001b[0m\u001b[0;34m.\u001b[0m\u001b[0mget_clip_path\u001b[0m\u001b[0;34m(\u001b[0m\u001b[0;34m)\u001b[0m \u001b[0;32mis\u001b[0m \u001b[0;32mNone\u001b[0m\u001b[0;34m:\u001b[0m\u001b[0;34m\u001b[0m\u001b[0m\n",
      "\u001b[0;32m/opt/miniconda/lib/python3.6/site-packages/matplotlib/image.py\u001b[0m in \u001b[0;36mset_data\u001b[0;34m(self, A)\u001b[0m\n\u001b[1;32m    636\u001b[0m                 \u001b[0mself\u001b[0m\u001b[0;34m.\u001b[0m\u001b[0m_A\u001b[0m \u001b[0;34m=\u001b[0m \u001b[0mpil_to_array\u001b[0m\u001b[0;34m(\u001b[0m\u001b[0mA\u001b[0m\u001b[0;34m)\u001b[0m\u001b[0;34m\u001b[0m\u001b[0m\n\u001b[1;32m    637\u001b[0m         \u001b[0;32melse\u001b[0m\u001b[0;34m:\u001b[0m\u001b[0;34m\u001b[0m\u001b[0m\n\u001b[0;32m--> 638\u001b[0;31m             \u001b[0mself\u001b[0m\u001b[0;34m.\u001b[0m\u001b[0m_A\u001b[0m \u001b[0;34m=\u001b[0m \u001b[0mcbook\u001b[0m\u001b[0;34m.\u001b[0m\u001b[0msafe_masked_invalid\u001b[0m\u001b[0;34m(\u001b[0m\u001b[0mA\u001b[0m\u001b[0;34m,\u001b[0m \u001b[0mcopy\u001b[0m\u001b[0;34m=\u001b[0m\u001b[0;32mTrue\u001b[0m\u001b[0;34m)\u001b[0m\u001b[0;34m\u001b[0m\u001b[0m\n\u001b[0m\u001b[1;32m    639\u001b[0m \u001b[0;34m\u001b[0m\u001b[0m\n\u001b[1;32m    640\u001b[0m         if (self._A.dtype != np.uint8 and\n",
      "\u001b[0;32m/opt/miniconda/lib/python3.6/site-packages/matplotlib/cbook/__init__.py\u001b[0m in \u001b[0;36msafe_masked_invalid\u001b[0;34m(x, copy)\u001b[0m\n\u001b[1;32m    782\u001b[0m \u001b[0;34m\u001b[0m\u001b[0m\n\u001b[1;32m    783\u001b[0m \u001b[0;32mdef\u001b[0m \u001b[0msafe_masked_invalid\u001b[0m\u001b[0;34m(\u001b[0m\u001b[0mx\u001b[0m\u001b[0;34m,\u001b[0m \u001b[0mcopy\u001b[0m\u001b[0;34m=\u001b[0m\u001b[0;32mFalse\u001b[0m\u001b[0;34m)\u001b[0m\u001b[0;34m:\u001b[0m\u001b[0;34m\u001b[0m\u001b[0m\n\u001b[0;32m--> 784\u001b[0;31m     \u001b[0mx\u001b[0m \u001b[0;34m=\u001b[0m \u001b[0mnp\u001b[0m\u001b[0;34m.\u001b[0m\u001b[0marray\u001b[0m\u001b[0;34m(\u001b[0m\u001b[0mx\u001b[0m\u001b[0;34m,\u001b[0m \u001b[0msubok\u001b[0m\u001b[0;34m=\u001b[0m\u001b[0;32mTrue\u001b[0m\u001b[0;34m,\u001b[0m \u001b[0mcopy\u001b[0m\u001b[0;34m=\u001b[0m\u001b[0mcopy\u001b[0m\u001b[0;34m)\u001b[0m\u001b[0;34m\u001b[0m\u001b[0m\n\u001b[0m\u001b[1;32m    785\u001b[0m     \u001b[0;32mif\u001b[0m \u001b[0;32mnot\u001b[0m \u001b[0mx\u001b[0m\u001b[0;34m.\u001b[0m\u001b[0mdtype\u001b[0m\u001b[0;34m.\u001b[0m\u001b[0misnative\u001b[0m\u001b[0;34m:\u001b[0m\u001b[0;34m\u001b[0m\u001b[0m\n\u001b[1;32m    786\u001b[0m         \u001b[0;31m# Note that the argument to `byteswap` is 'inplace',\u001b[0m\u001b[0;34m\u001b[0m\u001b[0;34m\u001b[0m\u001b[0m\n",
      "\u001b[0;31mValueError\u001b[0m: only one element tensors can be converted to Python scalars"
     ]
    },
    {
     "data": {
      "image/png": "[encoded data removed]",
      "text/plain": [
       "<Figure size 432x288 with 1 Axes>"
      ]
     },
     "metadata": {
      "needs_background": "light"
     },
     "output_type": "display_data"
    }
   ],
   "source": [
    "#for test_data in (test_dataset.size())\n",
    "# Pour chaque image de test dans le test_dataset\n",
    "    # Recupérer sa prédiction\n",
    "    #prediction = pred(i)\n",
    "    # Plot l'image, avec sa prédiction et sa réelle appartenance\n",
    "    #img = Image.open('/home/ysteux/nosave/PPC/Train/Paper/Paper.05.03.jpg')\n",
    "\n",
    "print(test_dataset[1])\n",
    "plt.imshow(test_dataset[0], interpolation='bicubic')\n",
    "#img"
   ]
  },
  {
   "cell_type": "code",
   "execution_count": null,
   "metadata": {},
   "outputs": [],
   "source": []
  }
 ],
 "metadata": {
  "kernelspec": {
   "display_name": "Python 3",
   "language": "python",
   "name": "python3"
  },
  "language_info": {
   "codemirror_mode": {
    "name": "ipython",
    "version": 3
   },
   "file_extension": ".py",
   "mimetype": "text/x-python",
   "name": "python",
   "nbconvert_exporter": "python",
   "pygments_lexer": "ipython3",
   "version": "3.6.6"
  }
 },
 "nbformat": 4,
 "nbformat_minor": 2
}
